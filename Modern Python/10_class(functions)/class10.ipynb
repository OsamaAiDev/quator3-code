{
 "cells": [
  {
   "cell_type": "markdown",
   "metadata": {},
   "source": [
    "# Function\n",
    "* pre-define function\n",
    "    * provided by in language\n",
    "* user-define function\n",
    "     * custom function\n",
    "\n",
    "## Similar properties on both typd\n",
    "* Return and None-return function\n",
    "    * Return\n",
    "        * we can assign this function output in any variable\n",
    "* None-Return\n",
    "    * only run we can't assign value to variable\n",
    "\n",
    "## components\n",
    "* function declaration\n",
    "* function body\n",
    "* function calling\n",
    "\n",
    "### Syntax function\n",
    "\n",
    "```\n",
    "def function_name(param1:type, param2:type,...)->Return_type:\n",
    "    function_body\n",
    "\n",
    "function_name(arg1,arg2)\n",
    "\n",
    "```\n",
    "\n",
    "### Syntaxt lambda function\n",
    "* one line function without name only use in this line\n",
    "* lambda param1,param2 : function_body"
   ]
  },
  {
   "cell_type": "markdown",
   "metadata": {},
   "source": [
    "# Return and None-return function"
   ]
  },
  {
   "cell_type": "code",
   "execution_count": 1,
   "metadata": {},
   "outputs": [
    {
     "name": "stdout",
     "output_type": "stream",
     "text": [
      "Pakistan\n"
     ]
    },
    {
     "data": {
      "text/plain": [
       "None"
      ]
     },
     "metadata": {},
     "output_type": "display_data"
    }
   ],
   "source": [
    "# print is none return function \n",
    "\n",
    "a : str = print(\"Pakistan\") # a = \"Pakistan\" | None\n",
    "\n",
    "display(a) # None"
   ]
  },
  {
   "cell_type": "code",
   "execution_count": 2,
   "metadata": {},
   "outputs": [
    {
     "data": {
      "text/plain": [
       "8"
      ]
     },
     "metadata": {},
     "output_type": "display_data"
    }
   ],
   "source": [
    "# variable.method_name()\n",
    "a : int = len(\"Pakistan\") # a = 8 Return\n",
    "\n",
    "display(a)"
   ]
  },
  {
   "cell_type": "code",
   "execution_count": 3,
   "metadata": {},
   "outputs": [
    {
     "name": "stdout",
     "output_type": "stream",
     "text": [
      "aa\n",
      "3\n"
     ]
    }
   ],
   "source": [
    "print(\"aa\")\n",
    "print(len('aaa'))"
   ]
  },
  {
   "cell_type": "markdown",
   "metadata": {},
   "source": [
    "## components\n",
    "* function declaration aka func signature\n",
    "    * function name\n",
    "    * Parameters\n",
    "        * param : type\n",
    "* return output type\n",
    "* function body\n",
    "    * any businuess logic write here\n",
    "* function calling\n",
    "    * function(arg1,arg2)"
   ]
  },
  {
   "cell_type": "markdown",
   "metadata": {},
   "source": [
    "# Syntax function\n",
    "* def function_name(param1:type, param2:type,...)->Return_type: # declaration\n",
    "* function_body # body\n",
    "\n",
    "* function_name(arg1,arg2) # calling"
   ]
  },
  {
   "cell_type": "markdown",
   "metadata": {},
   "source": [
    "Create simple function without any argument (defualt function)"
   ]
  },
  {
   "cell_type": "code",
   "execution_count": null,
   "metadata": {},
   "outputs": [],
   "source": [
    "def piaic()->None: # declaration/function signature\n",
    "    # function body start\n",
    "    print(\"PIAIC Generative Artificial Intelligence\") # statment1\n",
    "    print(\"Python Crash course\") # statment2\n",
    "    # function body end\n",
    "\n",
    "\n",
    "piaic() # calling\n",
    "piaic()"
   ]
  },
  {
   "cell_type": "markdown",
   "metadata": {},
   "source": [
    "# Required parameters functions"
   ]
  },
  {
   "cell_type": "code",
   "execution_count": 6,
   "metadata": {},
   "outputs": [
    {
     "data": {
      "text/plain": [
       "27"
      ]
     },
     "execution_count": 6,
     "metadata": {},
     "output_type": "execute_result"
    }
   ],
   "source": [
    "#                   param1       param2\n",
    "def add_two_numbers(num1 : int , num2 : int)->int:\n",
    "    return num1 + num2\n",
    "\n",
    "add_two_numbers(7,20)# agr1, arg2"
   ]
  },
  {
   "cell_type": "code",
   "execution_count": 7,
   "metadata": {},
   "outputs": [
    {
     "name": "stdout",
     "output_type": "stream",
     "text": [
      "num1 value 7 and num 2 value 20\n"
     ]
    },
    {
     "data": {
      "text/plain": [
       "27"
      ]
     },
     "execution_count": 7,
     "metadata": {},
     "output_type": "execute_result"
    }
   ],
   "source": [
    "#                   param1       param2\n",
    "def add_two_numbers(num1 : int , num2 : int)->int:\n",
    "    print(f\"num1 value {num1} and num 2 value {num2}\")\n",
    "    return num1 + num2\n",
    "\n",
    "add_two_numbers(7,20)# agr1, arg2 postional"
   ]
  },
  {
   "cell_type": "code",
   "execution_count": 8,
   "metadata": {},
   "outputs": [
    {
     "name": "stdout",
     "output_type": "stream",
     "text": [
      "num1 value 20 and num 2 value 7\n"
     ]
    },
    {
     "data": {
      "text/plain": [
       "27"
      ]
     },
     "execution_count": 8,
     "metadata": {},
     "output_type": "execute_result"
    }
   ],
   "source": [
    "#                   param1       param2\n",
    "def add_two_numbers(num1 : int , num2 : int)->int:\n",
    "    print(f\"num1 value {num1} and num 2 value {num2}\")\n",
    "    return num1 + num2\n",
    "\n",
    "add_two_numbers(num2=7,num1=20)# agr1, arg2 key word arguments"
   ]
  },
  {
   "cell_type": "markdown",
   "metadata": {},
   "source": [
    "# fucntion with optional parameters"
   ]
  },
  {
   "cell_type": "code",
   "execution_count": null,
   "metadata": {},
   "outputs": [],
   "source": [
    "# optional parameter must be last in the parameter list\n",
    "\n",
    "def add_two_numbers(num1: int, num2:int = 0) -> int:\n",
    "    print(num1, num2)\n",
    "    return num1 + num2\n",
    "\n",
    "add_two_numbers(7,2)"
   ]
  },
  {
   "cell_type": "markdown",
   "metadata": {},
   "source": [
    "# Syntaxt lambda function aka anonymous func"
   ]
  },
  {
   "cell_type": "markdown",
   "metadata": {},
   "source": [
    "* one line function without name only use in this line\n",
    "* lambda param1,param2 : function_body\n",
    "\n",
    "```\n",
    "lambda param1,param2 : function_body\n",
    "```\n",
    "\n",
    "# na is sa pehla use hova na bd ma ho ga jb micro controller pr work krta hn tu memory jb chala func tb la memory or finish kr da memory after work done normally backend pr consume krta ha "
   ]
  },
  {
   "cell_type": "code",
   "execution_count": 9,
   "metadata": {},
   "outputs": [
    {
     "data": {
      "text/plain": [
       "4"
      ]
     },
     "execution_count": 9,
     "metadata": {},
     "output_type": "execute_result"
    }
   ],
   "source": [
    "# here variable type is func\n",
    "\n",
    "a = lambda num1, num2 : num1 + num2\n",
    "a(1,2)\n",
    "a(2,2)"
   ]
  },
  {
   "cell_type": "code",
   "execution_count": 19,
   "metadata": {},
   "outputs": [
    {
     "data": {
      "text/plain": [
       "[1, 4, 9, 16, 25, 36, 49, 64, 81, 100]"
      ]
     },
     "execution_count": 19,
     "metadata": {},
     "output_type": "execute_result"
    }
   ],
   "source": [
    "# https://stackoverflow.com/questions/33833881/is-it-possible-to-type-hint-a-lambda-function\n",
    "\n",
    "data : list[int] = [1,2,3,4,5,6,7,8,9,10]\n",
    "data = list(map(lambda x: x**2, data))\n",
    "data"
   ]
  },
  {
   "cell_type": "code",
   "execution_count": 18,
   "metadata": {},
   "outputs": [
    {
     "data": {
      "text/plain": [
       "[2, 4, 6, 8, 10]"
      ]
     },
     "execution_count": 18,
     "metadata": {},
     "output_type": "execute_result"
    }
   ],
   "source": [
    "\n",
    "data : list[int] = [1,2,3,4,5,6,7,8,9,10]\n",
    "data = list(filter(lambda x: x % 2 == 0, data))\n",
    "data"
   ]
  },
  {
   "cell_type": "code",
   "execution_count": 20,
   "metadata": {},
   "outputs": [
    {
     "name": "stdout",
     "output_type": "stream",
     "text": [
      "30\n"
     ]
    }
   ],
   "source": [
    "# inorder to define lambda type we use collabe what input func takes and what output func return\n",
    "\n",
    "from typing import Callable\n",
    "\n",
    "add: Callable[[int, int], int] = lambda x, y: x + y\n",
    "result = add(10, 20)  # result will be 30\n",
    "print(result)"
   ]
  },
  {
   "cell_type": "markdown",
   "metadata": {},
   "source": [
    "## Generator Function\n",
    "* iterate on element one by one\n",
    "* stop after each iteration\n",
    "* remember old iteration value (last iterate value)\n",
    "* next iterate\n",
    "    * go farward from last iterate value"
   ]
  },
  {
   "cell_type": "code",
   "execution_count": 22,
   "metadata": {},
   "outputs": [
    {
     "name": "stdout",
     "output_type": "stream",
     "text": [
      "<generator object my_range at 0x000001F5A36365C0>\n",
      "[1, 2, 3, 4, 5, 6, 7, 8, 9, 10]\n"
     ]
    }
   ],
   "source": [
    "## Generator Function\n",
    "def my_range(start:int , end:int , step: int=1):\n",
    "    for i in range(start,end+1,step):\n",
    "        yield i # Generator fucntion\n",
    "\n",
    "\n",
    "a = my_range(1,10)\n",
    "print(a)\n",
    "print(list(a))"
   ]
  },
  {
   "cell_type": "code",
   "execution_count": 23,
   "metadata": {},
   "outputs": [
    {
     "name": "stdout",
     "output_type": "stream",
     "text": [
      "<generator object my_range at 0x000001F5A3680310>\n",
      "1\n",
      "2\n",
      "3\n",
      "Pakistan\n",
      "4\n"
     ]
    }
   ],
   "source": [
    "a = my_range(1,10)\n",
    "print(a)\n",
    "print(next(a))\n",
    "print(next(a))\n",
    "print(next(a))\n",
    "print(\"Pakistan\")\n",
    "print(next(a))"
   ]
  },
  {
   "cell_type": "markdown",
   "metadata": {},
   "source": [
    "\n",
    "https://stackoverflow.com/questions/74774919/proper-typing-for-a-interesting-yield-function"
   ]
  },
  {
   "cell_type": "code",
   "execution_count": 24,
   "metadata": {},
   "outputs": [
    {
     "name": "stdout",
     "output_type": "stream",
     "text": [
      "1\n",
      "2\n"
     ]
    }
   ],
   "source": [
    "from collections.abc import Iterator\n",
    "\n",
    "def my_range(start:int , end:int , step: int=1)->Iterator[int]:\n",
    "    for i in range(start,end+1,step):\n",
    "        yield i # Generator fucntion\n",
    "\n",
    "\n",
    "iterator_variable = my_range(1,10)\n",
    "\n",
    "print(next(iterator_variable))\n",
    "print(next(iterator_variable))"
   ]
  },
  {
   "cell_type": "code",
   "execution_count": 25,
   "metadata": {},
   "outputs": [
    {
     "name": "stdout",
     "output_type": "stream",
     "text": [
      "1\n",
      "2\n",
      "<class 'generator'>\n"
     ]
    }
   ],
   "source": [
    "from collections.abc import Iterator\n",
    "\n",
    "def my_range(start:int , end:int , step: int=1)->Iterator[int]:\n",
    "    for i in range(start,end+1,step):\n",
    "        yield i # Generator fucntion\n",
    "\n",
    "\n",
    "iterator_variable : Iterator[int] = my_range(1,10)\n",
    "\n",
    "print(next(iterator_variable))\n",
    "print(next(iterator_variable))\n",
    "\n",
    "print(type(iterator_variable))"
   ]
  },
  {
   "cell_type": "code",
   "execution_count": 26,
   "metadata": {},
   "outputs": [
    {
     "name": "stdout",
     "output_type": "stream",
     "text": [
      "3\n",
      "4\n",
      "5\n",
      "6\n",
      "7\n",
      "8\n",
      "9\n",
      "10\n"
     ]
    }
   ],
   "source": [
    "for i in iterator_variable:\n",
    "    print(i)"
   ]
  },
  {
   "cell_type": "code",
   "execution_count": 27,
   "metadata": {},
   "outputs": [
    {
     "data": {
      "text/plain": [
       "['__class__',\n",
       " '__del__',\n",
       " '__delattr__',\n",
       " '__dir__',\n",
       " '__doc__',\n",
       " '__eq__',\n",
       " '__format__',\n",
       " '__ge__',\n",
       " '__getattribute__',\n",
       " '__getstate__',\n",
       " '__gt__',\n",
       " '__hash__',\n",
       " '__init__',\n",
       " '__init_subclass__',\n",
       " '__iter__',\n",
       " '__le__',\n",
       " '__lt__',\n",
       " '__name__',\n",
       " '__ne__',\n",
       " '__new__',\n",
       " '__next__',\n",
       " '__qualname__',\n",
       " '__reduce__',\n",
       " '__reduce_ex__',\n",
       " '__repr__',\n",
       " '__setattr__',\n",
       " '__sizeof__',\n",
       " '__str__',\n",
       " '__subclasshook__',\n",
       " 'close',\n",
       " 'gi_code',\n",
       " 'gi_frame',\n",
       " 'gi_running',\n",
       " 'gi_suspended',\n",
       " 'gi_yieldfrom',\n",
       " 'send',\n",
       " 'throw']"
      ]
     },
     "execution_count": 27,
     "metadata": {},
     "output_type": "execute_result"
    }
   ],
   "source": [
    "dir(a)"
   ]
  },
  {
   "cell_type": "code",
   "execution_count": 30,
   "metadata": {},
   "outputs": [
    {
     "name": "stdout",
     "output_type": "stream",
     "text": [
      "(1, 2, 3, 3, 5, 6) <class 'tuple'>\n"
     ]
    },
    {
     "data": {
      "text/plain": [
       "20"
      ]
     },
     "execution_count": 30,
     "metadata": {},
     "output_type": "execute_result"
    }
   ],
   "source": [
    "# pass unlimited arguments\n",
    "# unlimited positional arguments\n",
    "\n",
    "def abc(*nums):\n",
    "    print(nums, type(nums))\n",
    "    total = 0\n",
    "    for n in nums:\n",
    "        total += n\n",
    "\n",
    "    return total\n",
    "\n",
    "\n",
    "abc(1,2,3,3,5,6)"
   ]
  },
  {
   "cell_type": "code",
   "execution_count": 29,
   "metadata": {},
   "outputs": [
    {
     "name": "stdout",
     "output_type": "stream",
     "text": [
      "Hello Monica\n",
      "Hello Luke\n",
      "Hello Steve\n",
      "Hello John\n",
      "Hello Sir Zia\n",
      "Hello Muhammad Qasim\n"
     ]
    }
   ],
   "source": [
    "from typing import Tuple\n",
    "\n",
    "def greet(*names: Tuple[str, ...]) -> None:\n",
    "    \n",
    "    \"\"\"\n",
    "    This function greets all persons in the names tuple.\n",
    "    \"\"\"\n",
    "    \n",
    "    for name in names:\n",
    "        print(\"Hello\", name)\n",
    "\n",
    "greet(\"Monica\", \"Luke\", \"Steve\", \"John\",\"Sir Zia\", \"Muhammad Qasim\")"
   ]
  },
  {
   "cell_type": "code",
   "execution_count": 32,
   "metadata": {},
   "outputs": [
    {
     "name": "stdout",
     "output_type": "stream",
     "text": [
      "{'a': 'pakistan', 'b': 'China'} <class 'dict'>\n"
     ]
    }
   ],
   "source": [
    "from typing import Dict\n",
    "\n",
    "def greet(**xyz: Dict[str,str]) -> None:\n",
    "    print(xyz, type(xyz))\n",
    "\n",
    "greet(a=\"pakistan\", b='China')"
   ]
  },
  {
   "cell_type": "code",
   "execution_count": 34,
   "metadata": {},
   "outputs": [
    {
     "name": "stdout",
     "output_type": "stream",
     "text": [
      "1 2 (7, 9, 9, 9) {'c': 20, 'd': 30, 'x': 100}\n"
     ]
    }
   ],
   "source": [
    "# here a,b argument is req\n",
    "def my_function(a, b, *abc, **xyz):\n",
    "    print(a,b, abc, xyz)\n",
    "\n",
    "my_function(1,2, 7,9,9,9, c=20, d= 30, x=100)"
   ]
  },
  {
   "cell_type": "code",
   "execution_count": 35,
   "metadata": {},
   "outputs": [
    {
     "name": "stdout",
     "output_type": "stream",
     "text": [
      "1 2 (7, 9, 9, 9) {'c': 20, 'd': 30, 'x': 100}\n"
     ]
    }
   ],
   "source": [
    "# typing hint error\n",
    "def my_function(a:int, b:int, *abc:Tuple[int, ...], **xyz:Dict[str,int]):\n",
    "    print(a,b, abc, xyz)\n",
    "\n",
    "my_function(1,2, 7,9,9,9, c=20, d= 30, x=100)"
   ]
  },
  {
   "cell_type": "code",
   "execution_count": 36,
   "metadata": {},
   "outputs": [
    {
     "name": "stdout",
     "output_type": "stream",
     "text": [
      "1 2 (7, 9, 9, 9) {'c': 20, 'd': 30, 'x': 100}\n"
     ]
    }
   ],
   "source": [
    "def my_function(a: int, b: int, *abc: int, **xyz: int) -> None:\n",
    "    print(a, b, abc, xyz)\n",
    "\n",
    "my_function(1, 2, 7, 9, 9, 9, c=20, d=30, x=100)"
   ]
  },
  {
   "cell_type": "code",
   "execution_count": 37,
   "metadata": {},
   "outputs": [
    {
     "name": "stdout",
     "output_type": "stream",
     "text": [
      "Something is happening before the function is called.\n",
      "Hello!\n",
      "Something is happening after the function is called.\n"
     ]
    }
   ],
   "source": [
    "\n",
    "\n",
    "from typing import Callable\n",
    "\n",
    "def my_decorator(func: Callable[[], None])-> Callable[[], None]:\n",
    "    def wrapper():\n",
    "        print(\"Something is happening before the function is called.\")\n",
    "        func()\n",
    "        print(\"Something is happening after the function is called.\")\n",
    "    return wrapper\n",
    "\n",
    "@my_decorator\n",
    "def say_hello():\n",
    "    print(\"Hello!\")\n",
    "\n",
    "say_hello()"
   ]
  },
  {
   "cell_type": "code",
   "execution_count": 38,
   "metadata": {},
   "outputs": [
    {
     "name": "stdout",
     "output_type": "stream",
     "text": [
      "Something is happening before the function is called.\n",
      "100\n",
      "Something is happening after the function is called.\n"
     ]
    }
   ],
   "source": [
    "from typing import Callable\n",
    "\n",
    "def my_decorator(func: Callable[[int], None]) -> Callable[[int], None]:\n",
    "    def wrapper(num1: int) -> None:\n",
    "        print(\"Something is happening before the function is called.\")\n",
    "        func(num1)\n",
    "        print(\"Something is happening after the function is called.\")\n",
    "    return wrapper\n",
    "\n",
    "@my_decorator\n",
    "def say_hello(num1: int) -> None:\n",
    "    print(num1)\n",
    "\n",
    "say_hello(100)"
   ]
  },
  {
   "cell_type": "code",
   "execution_count": 39,
   "metadata": {},
   "outputs": [
    {
     "name": "stdout",
     "output_type": "stream",
     "text": [
      "The factorial of 5 is 120\n"
     ]
    }
   ],
   "source": [
    "def factorial(x: int) -> int:\n",
    "    \"\"\"This is a recursive function\n",
    "    to find the factorial of an integer\"\"\"\n",
    "    if x == 1 or x == 0:\n",
    "        return 1\n",
    "    else:\n",
    "        return (x * factorial(x-1))\n",
    "        #       5*4*3*2*1\n",
    "\n",
    "num = 5\n",
    "print(\"The factorial of\", num, \"is\", factorial(num))"
   ]
  }
 ],
 "metadata": {
  "kernelspec": {
   "display_name": "python12",
   "language": "python",
   "name": "python3"
  },
  "language_info": {
   "codemirror_mode": {
    "name": "ipython",
    "version": 3
   },
   "file_extension": ".py",
   "mimetype": "text/x-python",
   "name": "python",
   "nbconvert_exporter": "python",
   "pygments_lexer": "ipython3",
   "version": "3.12.0"
  }
 },
 "nbformat": 4,
 "nbformat_minor": 2
}
