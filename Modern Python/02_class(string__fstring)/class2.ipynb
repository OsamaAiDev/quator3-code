{
 "cells": [
  {
   "cell_type": "markdown",
   "metadata": {},
   "source": [
    "# String Datatype"
   ]
  },
  {
   "cell_type": "code",
   "execution_count": 4,
   "metadata": {},
   "outputs": [],
   "source": [
    "# boundries ''. \"\", ''' ''', \"\"\" \"\"\"\n",
    "name : str = \"Osama\""
   ]
  },
  {
   "cell_type": "code",
   "execution_count": 2,
   "metadata": {},
   "outputs": [
    {
     "name": "stdout",
     "output_type": "stream",
     "text": [
      "            Osama \n",
      "<class 'str'>\n"
     ]
    }
   ],
   "source": [
    "name : str = \"\"\"            Osama \"\"\"\n",
    "print(name)\n",
    "print(type(name))"
   ]
  },
  {
   "cell_type": "code",
   "execution_count": 6,
   "metadata": {},
   "outputs": [
    {
     "name": "stdout",
     "output_type": "stream",
     "text": [
      "Osama's atta\n"
     ]
    }
   ],
   "source": [
    "name : str = \"Osama's atta\"\n",
    "print(name)"
   ]
  },
  {
   "cell_type": "code",
   "execution_count": 8,
   "metadata": {},
   "outputs": [
    {
     "name": "stdout",
     "output_type": "stream",
     "text": [
      "Osama's \n",
      " atta\n"
     ]
    }
   ],
   "source": [
    "# convert any special character into simple character use \\ before special character\n",
    "name : str = \"Osama\\'s \\n atta\"\n",
    "print(name)"
   ]
  },
  {
   "cell_type": "code",
   "execution_count": 9,
   "metadata": {},
   "outputs": [
    {
     "name": "stdout",
     "output_type": "stream",
     "text": [
      "Osama's \n",
      " atta\n"
     ]
    }
   ],
   "source": [
    "# if you want to show ' inside string in boundary use \"\" quote\n",
    "name : str = \"Osama's \\n atta\"\n",
    "print(name)"
   ]
  },
  {
   "cell_type": "code",
   "execution_count": 14,
   "metadata": {},
   "outputs": [
    {
     "ename": "TypeError",
     "evalue": "can only concatenate str (not \"int\") to str",
     "output_type": "error",
     "traceback": [
      "\u001b[1;31m---------------------------------------------------------------------------\u001b[0m",
      "\u001b[1;31mTypeError\u001b[0m                                 Traceback (most recent call last)",
      "Cell \u001b[1;32mIn[14], line 6\u001b[0m\n\u001b[0;32m      4\u001b[0m age: \u001b[38;5;28mint\u001b[39m \u001b[38;5;241m=\u001b[39m \u001b[38;5;241m26\u001b[39m\n\u001b[0;32m      5\u001b[0m \u001b[38;5;28mid\u001b[39m: \u001b[38;5;28mint\u001b[39m \u001b[38;5;241m=\u001b[39m \u001b[38;5;241m1\u001b[39m\n\u001b[1;32m----> 6\u001b[0m card: \u001b[38;5;28mstr\u001b[39m \u001b[38;5;241m=\u001b[39m \u001b[38;5;124;43m\"\u001b[39;49m\u001b[38;5;124;43mPIAIC Student Name:\u001b[39;49m\u001b[38;5;124;43m\"\u001b[39;49m\u001b[43m \u001b[49m\u001b[38;5;241;43m+\u001b[39;49m\u001b[43m \u001b[49m\u001b[43mname\u001b[49m\u001b[43m \u001b[49m\u001b[38;5;241;43m+\u001b[39;49m\u001b[43m \u001b[49m\u001b[38;5;124;43m\"\u001b[39;49m\u001b[38;5;130;43;01m\\n\u001b[39;49;00m\u001b[38;5;124;43m Age:\u001b[39;49m\u001b[38;5;124;43m\"\u001b[39;49m\u001b[43m \u001b[49m\u001b[38;5;241;43m+\u001b[39;49m\u001b[43m \u001b[49m\u001b[43mage\u001b[49m\n\u001b[0;32m      8\u001b[0m \u001b[38;5;28mprint\u001b[39m(card)\n",
      "\u001b[1;31mTypeError\u001b[0m: can only concatenate str (not \"int\") to str"
     ]
    }
   ],
   "source": [
    "# we cannot concatinate string with no\n",
    "\n",
    "name : str = \"Osama\"\n",
    "age: int = 26\n",
    "id: int = 1\n",
    "card: str = \"PIAIC Student Name:\" + name + \"\\n Age:\" + age\n",
    "\n",
    "print(card)"
   ]
  },
  {
   "cell_type": "code",
   "execution_count": 19,
   "metadata": {},
   "outputs": [
    {
     "name": "stdout",
     "output_type": "stream",
     "text": [
      "PIAIC Student Name:Osama\n",
      "Age:26\n"
     ]
    }
   ],
   "source": [
    "# multiline string here you have to do type convertion as well use \\ which is complex\n",
    "\n",
    "name : str = \"Osama\"\n",
    "age: int = 26\n",
    "id: int = 1\n",
    "card: str = \"PIAIC Student Name:\" + name + \"\\nAge:\" + \\\n",
    "      str(age)\n",
    "\n",
    "print(card)"
   ]
  },
  {
   "cell_type": "markdown",
   "metadata": {},
   "source": [
    "# \\ back slash line continue"
   ]
  },
  {
   "cell_type": "code",
   "execution_count": 17,
   "metadata": {},
   "outputs": [
    {
     "name": "stdout",
     "output_type": "stream",
     "text": [
      "10\n"
     ]
    }
   ],
   "source": [
    "# we use \\ to tell aga ke logic next ma line ma h\n",
    "# execution time pr computer sara \\ back slash remove kr ka code ek line ma la aye ga\n",
    "\n",
    "print(3 + \\\n",
    "      2 + \\\n",
    "        5)"
   ]
  },
  {
   "cell_type": "markdown",
   "metadata": {},
   "source": [
    "# defining multiline string \"\"\" \"\"\" or ''' '''\n",
    "# f string"
   ]
  },
  {
   "cell_type": "code",
   "execution_count": 23,
   "metadata": {},
   "outputs": [
    {
     "name": "stdout",
     "output_type": "stream",
     "text": [
      "\n",
      "PIAIC Student: Osama\n",
      "Age: 26\n",
      "Id: 1\n",
      "we can also write expression in f string as well\n",
      "Total: 24\n",
      "\n"
     ]
    }
   ],
   "source": [
    "name : str = \"Osama\"\n",
    "age : int = 26\n",
    "id: int = 1\n",
    "\n",
    "card : str = f\"\"\"\n",
    "PIAIC Student: {name}\n",
    "Age: {age}cls\n",
    "Id: {id}\n",
    "we can also write expression in f string as well\n",
    "Total: {12+12}\n",
    "\"\"\"\n",
    "\n",
    "print(card)\n"
   ]
  },
  {
   "cell_type": "markdown",
   "metadata": {},
   "source": [
    "# f-string and jinja style "
   ]
  },
  {
   "cell_type": "markdown",
   "metadata": {},
   "source": [
    "# We use these two methods for string formatting"
   ]
  },
  {
   "cell_type": "code",
   "execution_count": 24,
   "metadata": {},
   "outputs": [
    {
     "data": {
      "text/plain": [
       "'Name: {{name}}'"
      ]
     },
     "execution_count": 24,
     "metadata": {},
     "output_type": "execute_result"
    }
   ],
   "source": [
    "# jinja style use in web development\n",
    "\n",
    "\"\"\"Name: {{name}}\"\"\""
   ]
  },
  {
   "cell_type": "code",
   "execution_count": 26,
   "metadata": {},
   "outputs": [
    {
     "name": "stdout",
     "output_type": "stream",
     "text": [
      "\n",
      "Name: Osama\n",
      "Age: 26\n",
      "Id: 1\n",
      "\n"
     ]
    }
   ],
   "source": [
    "# old ways of doing concatinate formating string in c and java\n",
    "# jaha variable chahia waha % use kre ga jese %s means string or %d means integer and we define variables at the end % then tuple round brackets\n",
    "# and define variables inside there\n",
    "\n",
    "name : str = \"Osama\"\n",
    "age : int = 26\n",
    "id: int = 1\n",
    "\n",
    "card : str = \"\"\"\n",
    "Name: %s\n",
    "Age: %d\n",
    "Id: %d\n",
    "\"\"\" % (name, age, id)\n",
    "\n",
    "print(card)\n"
   ]
  },
  {
   "cell_type": "code",
   "execution_count": 28,
   "metadata": {},
   "outputs": [
    {
     "data": {
      "text/plain": [
       "'Age is 26 and my name is Osama'"
      ]
     },
     "execution_count": 28,
     "metadata": {},
     "output_type": "execute_result"
    }
   ],
   "source": [
    "# string methods\n",
    "# {} is called placeholder\n",
    "name : str = \"Osama\"\n",
    "age : int = 26\n",
    "#        0                 1           0    1\n",
    "\"Age is {} and my name is {}\".format(age, name)"
   ]
  },
  {
   "cell_type": "code",
   "execution_count": 29,
   "metadata": {},
   "outputs": [
    {
     "data": {
      "text/plain": [
       "'Age is Osama and my name is 26'"
      ]
     },
     "execution_count": 29,
     "metadata": {},
     "output_type": "execute_result"
    }
   ],
   "source": [
    "# here 0 and 1 are index\n",
    "name : str = \"Osama\"\n",
    "age : int = 26\n",
    "#                                       0    1\n",
    "\"Age is {1} and my name is {0}\".format(age, name)"
   ]
  },
  {
   "cell_type": "code",
   "execution_count": 30,
   "metadata": {},
   "outputs": [
    {
     "data": {
      "text/plain": [
       "'Age is 26 and my name is Osama'"
      ]
     },
     "execution_count": 30,
     "metadata": {},
     "output_type": "execute_result"
    }
   ],
   "source": [
    "# we can also define placeholder by ourself and assign values to them\n",
    "name : str = \"Osama\"\n",
    "age : int = 26\n",
    "\n",
    "\"Age is {a} and my name is {b}\".format(a = age, b = name)"
   ]
  },
  {
   "cell_type": "code",
   "execution_count": 33,
   "metadata": {},
   "outputs": [
    {
     "name": "stdout",
     "output_type": "stream",
     "text": [
      "student\n",
      "24\n"
     ]
    }
   ],
   "source": [
    "\n",
    "\n",
    "student_code : str = \"\"\"\n",
    "print(\"student\")\n",
    "a : int = 12\n",
    "b : int = 12\n",
    "print(a+b)\n",
    "\"\"\"\n",
    "exec(student_code)"
   ]
  },
  {
   "cell_type": "markdown",
   "metadata": {},
   "source": [
    "# Exploring string methods\n",
    "\n",
    "pre define global func we have used\n",
    "\n",
    "* print\n",
    "* id\n",
    "* dir\n",
    "* len\n",
    "* type"
   ]
  },
  {
   "cell_type": "code",
   "execution_count": 35,
   "metadata": {},
   "outputs": [
    {
     "name": "stdout",
     "output_type": "stream",
     "text": [
      "['capitalize', 'casefold', 'center', 'count', 'encode', 'endswith', 'expandtabs', 'find', 'format', 'format_map', 'index', 'isalnum', 'isalpha', 'isascii', 'isdecimal', 'isdigit', 'isidentifier', 'islower', 'isnumeric', 'isprintable', 'isspace', 'istitle', 'isupper', 'join', 'ljust', 'lower', 'lstrip', 'maketrans', 'partition', 'removeprefix', 'removesuffix', 'replace', 'rfind', 'rindex', 'rjust', 'rpartition', 'rsplit', 'rstrip', 'split', 'splitlines', 'startswith', 'strip', 'swapcase', 'title', 'translate', 'upper', 'zfill']\n",
      "47\n"
     ]
    }
   ],
   "source": [
    "a : list[str] = [i for i in dir(str) if \"__\" not in i]\n",
    "print(a)\n",
    "print(len(a))"
   ]
  },
  {
   "cell_type": "code",
   "execution_count": 48,
   "metadata": {},
   "outputs": [
    {
     "data": {
      "text/plain": [
       "'   Osama         Arshad    Khan   '"
      ]
     },
     "metadata": {},
     "output_type": "display_data"
    },
    {
     "data": {
      "text/plain": [
       "'Osama Arshad Khan'"
      ]
     },
     "metadata": {},
     "output_type": "display_data"
    }
   ],
   "source": [
    "# inorder to remove space from the center we use regular expression for that we import re regular expression\n",
    "\n",
    "import re\n",
    "\n",
    "name : str = \"   Osama         Arshad    Khan   \"\n",
    "display(name)\n",
    "name1 : str = re.sub(' {2,100}', \" \", name).strip()\n",
    "display(name1)"
   ]
  },
  {
   "cell_type": "code",
   "execution_count": 52,
   "metadata": {},
   "outputs": [
    {
     "name": "stdout",
     "output_type": "stream",
     "text": [
      " \t \t Osama\n",
      "my name i osama\n"
     ]
    }
   ],
   "source": [
    "\" \\b means backspace delete the left part one char where it is used\"\n",
    "# \\n means new line\n",
    "# \\t means tab\n",
    "\n",
    "print(\" \\t \\t Osama\")\n",
    "print(\"my name is\\b osama\")"
   ]
  },
  {
   "cell_type": "code",
   "execution_count": 53,
   "metadata": {},
   "outputs": [
    {
     "data": {
      "text/plain": [
       "'google.com'"
      ]
     },
     "execution_count": 53,
     "metadata": {},
     "output_type": "execute_result"
    }
   ],
   "source": [
    "# prefix remove from the start\n",
    "web : str  = \"https://google.com\"\n",
    "web.removeprefix(\"https://\")"
   ]
  }
 ],
 "metadata": {
  "kernelspec": {
   "display_name": "python12",
   "language": "python",
   "name": "python3"
  },
  "language_info": {
   "codemirror_mode": {
    "name": "ipython",
    "version": 3
   },
   "file_extension": ".py",
   "mimetype": "text/x-python",
   "name": "python",
   "nbconvert_exporter": "python",
   "pygments_lexer": "ipython3",
   "version": "3.12.0"
  }
 },
 "nbformat": 4,
 "nbformat_minor": 2
}
