{
 "cells": [
  {
   "cell_type": "markdown",
   "id": "d2997860-065f-4ecb-aca2-b04661b2b3a4",
   "metadata": {},
   "source": [
    "# List\n",
    "    * iteration operation with loop\n",
    "    * apply any operation on element"
   ]
  },
  {
   "cell_type": "code",
   "execution_count": 2,
   "id": "7942c976-e210-47da-abdd-9c44b0267ee3",
   "metadata": {},
   "outputs": [
    {
     "name": "stdout",
     "output_type": "stream",
     "text": [
      "['Osama', 'Zia', 'Qasim']\n"
     ]
    }
   ],
   "source": [
    "names : list[str] = [\"Osama\", \"Zia\", \"Qasim\"]\n",
    "print(names)"
   ]
  },
  {
   "cell_type": "code",
   "execution_count": 4,
   "id": "94466fe4-d946-4ba3-9c48-483f410c2c4e",
   "metadata": {},
   "outputs": [
    {
     "name": "stdout",
     "output_type": "stream",
     "text": [
      "Osama\n",
      "Zia\n",
      "Qasim\n"
     ]
    }
   ],
   "source": [
    "# here name is local variable it exist only inside for loop boundary\n",
    "for name in names:\n",
    "    print(name)"
   ]
  },
  {
   "cell_type": "code",
   "execution_count": 2,
   "id": "6436cdc1-eea6-420a-8ce2-27471079b0eb",
   "metadata": {},
   "outputs": [
    {
     "name": "stdout",
     "output_type": "stream",
     "text": [
      "Osama\n",
      "Zia\n",
      "Qasim\n"
     ]
    }
   ],
   "source": [
    "# old way\n",
    "names : list[str] = [\"Osama\", \"Zia\", \"Qasim\"]\n",
    "i : int = 0\n",
    "\n",
    "while i < len(names): #names lenght = 3\n",
    "    print(names[i])\n",
    "    i+=1"
   ]
  },
  {
   "cell_type": "code",
   "execution_count": 5,
   "id": "6909247b-fb1d-4a2d-8164-5ef258768135",
   "metadata": {},
   "outputs": [
    {
     "name": "stdout",
     "output_type": "stream",
     "text": [
      "Welcome teacher Osama\n",
      "Hi i am a for loop body part \n",
      "\n",
      "Welcome teacher Zia\n",
      "Hi i am a for loop body part \n",
      "\n",
      "Welcome teacher Qasim\n",
      "Hi i am a for loop body part \n",
      "\n"
     ]
    }
   ],
   "source": [
    "names : list[str] = [\"Osama\", \"Zia\", \"Qasim\"]\n",
    "\n",
    "for name in names:\n",
    "    print(f\"Welcome teacher {name.title()}\")\n",
    "\n",
    "    print(\"Hi i am a for loop body part \\n\")"
   ]
  },
  {
   "cell_type": "code",
   "execution_count": 7,
   "id": "e6b040d6",
   "metadata": {},
   "outputs": [
    {
     "name": "stdout",
     "output_type": "stream",
     "text": [
      "Welcome teacher Osama\n",
      "Hi i am a for loop body part \n",
      "\n"
     ]
    }
   ],
   "source": [
    "# print only specific range\n",
    "\n",
    "# here we are getting items one by one and perform operation of them\n",
    "\n",
    "names : list[str] = [\"Osama\", \"Zia\", \"Qasim\"]\n",
    "\n",
    "for name in names[:1]:\n",
    "    print(f\"Welcome teacher {name.title()}\")\n",
    "\n",
    "    print(\"Hi i am a for loop body part \\n\")"
   ]
  },
  {
   "cell_type": "code",
   "execution_count": 13,
   "id": "2569d9c1",
   "metadata": {},
   "outputs": [
    {
     "name": "stdout",
     "output_type": "stream",
     "text": [
      "osama 123\n",
      "qasim 234\n",
      "zia 1243\n"
     ]
    }
   ],
   "source": [
    "\n",
    "data_base : list[tuple[str, str]] = [(\"osama\", \"123\"),\n",
    "                                     (\"qasim\", \"234\"),\n",
    "                                     (\"zia\", \"1243\")\n",
    "                                     ]\n",
    "\n",
    "for row in data_base:\n",
    "    # unzip\n",
    "    user_name, password = row\n",
    "    print(user_name, password)"
   ]
  },
  {
   "cell_type": "code",
   "execution_count": 16,
   "id": "b6eccdad",
   "metadata": {},
   "outputs": [
    {
     "name": "stdout",
     "output_type": "stream",
     "text": [
      "Username Not Found\n"
     ]
    }
   ],
   "source": [
    "\n",
    "data_base : list[tuple[str, str]] = [(\"osama\", \"123\"),\n",
    "                                     (\"qasim\", \"234\"),\n",
    "                                     (\"zia\", \"1243\")\n",
    "                                     ]\n",
    "input_user_name = input(\"Enter user name\")\n",
    "input_user_password = input(\"Enter user password\")\n",
    "\n",
    "for row in data_base:\n",
    "    # unzip\n",
    "    user_name, password = row\n",
    "\n",
    "    if(user_name == input_user_name and password == input_user_password):\n",
    "        print(\"Valid User\")\n",
    "        break\n",
    "else:\n",
    "    print(\"Username Not Found Or Invalid UserName\")"
   ]
  },
  {
   "cell_type": "code",
   "execution_count": 17,
   "id": "1f4801fc",
   "metadata": {},
   "outputs": [
    {
     "name": "stdout",
     "output_type": "stream",
     "text": [
      "Welcome teacher Osama\n",
      " I am still accessible Osama\n",
      "Welcome teacher Zia\n",
      " I am still accessible Zia\n",
      "Welcome teacher Qasim\n",
      " I am still accessible Qasim\n"
     ]
    }
   ],
   "source": [
    "# we can also access local variable of loop outside its body as well in python\n",
    "\n",
    "names : list[str] = [\"Osama\", \"Zia\", \"Qasim\"]\n",
    "\n",
    "for name in names:\n",
    "    print(f\"Welcome teacher {name.title()}\")\n",
    "\n",
    "    print(f\" I am still accessible {name}\")"
   ]
  },
  {
   "cell_type": "code",
   "execution_count": 19,
   "id": "5e297b00",
   "metadata": {},
   "outputs": [
    {
     "ename": "IndentationError",
     "evalue": "unexpected indent (1589672518.py, line 3)",
     "output_type": "error",
     "traceback": [
      "\u001b[1;36m  Cell \u001b[1;32mIn[19], line 3\u001b[1;36m\u001b[0m\n\u001b[1;33m    print(\"hello\")\u001b[0m\n\u001b[1;37m    ^\u001b[0m\n\u001b[1;31mIndentationError\u001b[0m\u001b[1;31m:\u001b[0m unexpected indent\n"
     ]
    }
   ],
   "source": [
    "# un necessary indentation cause an error in python\n",
    "\n",
    " print(\"hello\")"
   ]
  },
  {
   "cell_type": "code",
   "execution_count": 20,
   "id": "eb3f5ec5",
   "metadata": {},
   "outputs": [],
   "source": [
    "# Numbers with loop\n",
    "# range(start, end, step)"
   ]
  },
  {
   "cell_type": "code",
   "execution_count": 21,
   "id": "19548f5e",
   "metadata": {},
   "outputs": [
    {
     "data": {
      "text/plain": [
       "range(0, 10)"
      ]
     },
     "execution_count": 21,
     "metadata": {},
     "output_type": "execute_result"
    }
   ],
   "source": [
    "# generator func does not run by self\n",
    "range(10)"
   ]
  },
  {
   "cell_type": "code",
   "execution_count": 23,
   "id": "3b514d2b",
   "metadata": {},
   "outputs": [
    {
     "data": {
      "text/plain": [
       "[0, 1, 2, 3, 4, 5, 6, 7, 8, 9]"
      ]
     },
     "execution_count": 23,
     "metadata": {},
     "output_type": "execute_result"
    }
   ],
   "source": [
    "numbers : list[int] = list(range(10))\n",
    "numbers"
   ]
  },
  {
   "cell_type": "code",
   "execution_count": 24,
   "id": "bf170d43",
   "metadata": {},
   "outputs": [
    {
     "data": {
      "text/plain": [
       "[2, 4, 6, 8, 10, 12, 14, 16, 18, 20]"
      ]
     },
     "execution_count": 24,
     "metadata": {},
     "output_type": "execute_result"
    }
   ],
   "source": [
    "numbers : list[int] = list(range(2, 21, 2))\n",
    "numbers"
   ]
  },
  {
   "cell_type": "code",
   "execution_count": 27,
   "id": "bc948af7",
   "metadata": {},
   "outputs": [
    {
     "name": "stdout",
     "output_type": "stream",
     "text": [
      "2\n",
      "4\n",
      "6\n",
      "8\n",
      "10\n",
      "12\n",
      "14\n",
      "16\n",
      "18\n",
      "20\n"
     ]
    }
   ],
   "source": [
    "for n in range(2, 21, 2): print(n)"
   ]
  },
  {
   "cell_type": "code",
   "execution_count": 28,
   "id": "2077c8a8",
   "metadata": {},
   "outputs": [
    {
     "data": {
      "text/plain": [
       "[(0, 'osama'), (1, 'arshad')]"
      ]
     },
     "execution_count": 28,
     "metadata": {},
     "output_type": "execute_result"
    }
   ],
   "source": [
    "# enumerate generator func map index with item\n",
    "\n",
    "persons : list[str] = [\"osama\", \"arshad\"]\n",
    "list(enumerate(persons))\n"
   ]
  },
  {
   "cell_type": "code",
   "execution_count": 29,
   "id": "5a7ca2a3",
   "metadata": {},
   "outputs": [
    {
     "name": "stdout",
     "output_type": "stream",
     "text": [
      "0 osama\n",
      "1 arshad\n"
     ]
    }
   ],
   "source": [
    "\n",
    "persons : list[str] = [\"osama\", \"arshad\"]\n",
    "\n",
    "for index, person in enumerate(persons):\n",
    "    print(index, person)"
   ]
  },
  {
   "cell_type": "code",
   "execution_count": 30,
   "id": "f8fd6fd9",
   "metadata": {},
   "outputs": [
    {
     "name": "stdout",
     "output_type": "stream",
     "text": [
      "[1, 4, 9, 16, 25, 36, 49, 64, 81, 100]\n"
     ]
    }
   ],
   "source": [
    "squares = []\n",
    "\n",
    "for val in range(1, 11):\n",
    "    square = val ** 2\n",
    "    squares.append(square)\n",
    "print(squares)"
   ]
  },
  {
   "cell_type": "markdown",
   "id": "6e91c651",
   "metadata": {},
   "source": [
    "# list comprehension muti line code in one line\n",
    "\n",
    "```\n",
    "for item in item_list:\n",
    "    loop body\n",
    "```\n",
    "\n",
    "### comprehensive style\n",
    "\n",
    "```\n",
    "loop body for item in item_list\n",
    "```"
   ]
  },
  {
   "cell_type": "code",
   "execution_count": 31,
   "id": "d13d06ed",
   "metadata": {},
   "outputs": [
    {
     "data": {
      "text/plain": [
       "[1, 4, 9, 16, 25, 36, 49, 64, 81, 100]"
      ]
     },
     "execution_count": 31,
     "metadata": {},
     "output_type": "execute_result"
    }
   ],
   "source": [
    "[ i**2 for i in range(1, 11)]"
   ]
  },
  {
   "cell_type": "code",
   "execution_count": 32,
   "id": "d30fc50a",
   "metadata": {},
   "outputs": [
    {
     "data": {
      "text/plain": [
       "' line 3'"
      ]
     },
     "execution_count": 32,
     "metadata": {},
     "output_type": "execute_result"
    }
   ],
   "source": [
    "\" line 1\"\n",
    "\" line 2\"\n",
    "\" line 3\" # ipynb always return last line"
   ]
  },
  {
   "cell_type": "code",
   "execution_count": 35,
   "id": "397bf242",
   "metadata": {},
   "outputs": [
    {
     "name": "stdout",
     "output_type": "stream",
     "text": [
      "max 100\n",
      "min 1\n",
      "sum 385\n"
     ]
    }
   ],
   "source": [
    "# some global py func for statics\n",
    "\n",
    "my_square: list[int] = [ i**2 for i in range(1, 11)]\n",
    "\n",
    "print(\"max\", max(my_square))\n",
    "print(\"min\", min(my_square))\n",
    "print(\"sum\", sum(my_square))"
   ]
  },
  {
   "cell_type": "code",
   "execution_count": 38,
   "id": "08fc1448",
   "metadata": {},
   "outputs": [
    {
     "name": "stdout",
     "output_type": "stream",
     "text": [
      "['apple', 'mango']\n",
      "['banana', 'mango']\n"
     ]
    }
   ],
   "source": [
    "fruits = [\"apple\", \"mango\"]\n",
    "fruits_another = fruits[:] # deep copy\n",
    "\n",
    "fruits_another[0] = \"banana\"\n",
    "\n",
    "print(fruits)\n",
    "print(fruits_another)"
   ]
  },
  {
   "cell_type": "code",
   "execution_count": 41,
   "id": "ed0d2359",
   "metadata": {},
   "outputs": [],
   "source": [
    "# tuple is immutable we cannot append anything and cannot update"
   ]
  },
  {
   "cell_type": "code",
   "execution_count": 42,
   "id": "aac55263",
   "metadata": {},
   "outputs": [
    {
     "name": "stdout",
     "output_type": "stream",
     "text": [
      "A\n",
      "('A', 'B')\n"
     ]
    },
    {
     "ename": "TypeError",
     "evalue": "'tuple' object does not support item assignment",
     "output_type": "error",
     "traceback": [
      "\u001b[1;31m---------------------------------------------------------------------------\u001b[0m",
      "\u001b[1;31mTypeError\u001b[0m                                 Traceback (most recent call last)",
      "Cell \u001b[1;32mIn[42], line 5\u001b[0m\n\u001b[0;32m      2\u001b[0m \u001b[38;5;28mprint\u001b[39m(names[\u001b[38;5;241m0\u001b[39m])\n\u001b[0;32m      3\u001b[0m \u001b[38;5;28mprint\u001b[39m(names[\u001b[38;5;241m0\u001b[39m:\u001b[38;5;241m2\u001b[39m])\n\u001b[1;32m----> 5\u001b[0m \u001b[43mnames\u001b[49m\u001b[43m[\u001b[49m\u001b[38;5;241;43m0\u001b[39;49m\u001b[43m]\u001b[49m \u001b[38;5;241m=\u001b[39m \u001b[38;5;124m\"\u001b[39m\u001b[38;5;124mpakistan\u001b[39m\u001b[38;5;124m\"\u001b[39m \u001b[38;5;66;03m# we cannot update value\u001b[39;00m\n\u001b[0;32m      7\u001b[0m names : \u001b[38;5;28mtuple\u001b[39m[\u001b[38;5;28mstr\u001b[39m] \u001b[38;5;241m=\u001b[39m (\u001b[38;5;124m\"\u001b[39m\u001b[38;5;124mA\u001b[39m\u001b[38;5;124m\"\u001b[39m, \u001b[38;5;124m\"\u001b[39m\u001b[38;5;124mB\u001b[39m\u001b[38;5;124m\"\u001b[39m, \u001b[38;5;124m\"\u001b[39m\u001b[38;5;124mpakistan\u001b[39m\u001b[38;5;124m\"\u001b[39m) \u001b[38;5;66;03m# but we can re assign\u001b[39;00m\n",
      "\u001b[1;31mTypeError\u001b[0m: 'tuple' object does not support item assignment"
     ]
    }
   ],
   "source": [
    "names : tuple[str] = (\"A\", \"B\", \"C\")\n",
    "print(names[0])\n",
    "print(names[0:2])\n",
    "\n",
    "# names[0] = \"pakistan\" # we cannot update value\n",
    "\n",
    "names : tuple[str] = (\"A\", \"B\", \"pakistan\") # but we can re assign\n"
   ]
  },
  {
   "cell_type": "code",
   "execution_count": 1,
   "id": "813e7860",
   "metadata": {},
   "outputs": [
    {
     "name": "stdout",
     "output_type": "stream",
     "text": [
      "('A', [1, 2, 3], 12)\n",
      "('A', [1, 2, 3, 20], 12)\n"
     ]
    }
   ],
   "source": [
    "from typing import Any\n",
    "\n",
    "data: tuple[Any] = (\"A\", [1, 2, 3], 12)\n",
    "print(data)\n",
    "data[1].append(20) # here we do the change on item not on tuple\n",
    "print(data)"
   ]
  }
 ],
 "metadata": {
  "kernelspec": {
   "display_name": "Python 3 (ipykernel)",
   "language": "python",
   "name": "python3"
  },
  "language_info": {
   "codemirror_mode": {
    "name": "ipython",
    "version": 3
   },
   "file_extension": ".py",
   "mimetype": "text/x-python",
   "name": "python",
   "nbconvert_exporter": "python",
   "pygments_lexer": "ipython3",
   "version": "3.12.0"
  }
 },
 "nbformat": 4,
 "nbformat_minor": 5
}
